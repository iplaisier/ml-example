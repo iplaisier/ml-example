{
 "cells": [
  {
   "cell_type": "code",
   "execution_count": 2,
   "metadata": {},
   "outputs": [],
   "source": [
    "import pandas as pd \n",
    "import datetime\n",
    "import numpy as np \n",
    "\n",
    "import matplotlib.pyplot as plt\n",
    "import matplotlib as mpl\n",
    "from cycler import cycler\n",
    "\n",
    "\n",
    "import torch.nn as nn\n",
    "import torch\n",
    "\n",
    "import analysis_tools\n",
    "\n",
    "import pickle\n",
    "\n",
    "from sklearn.preprocessing import StandardScaler\n",
    "\n",
    "\n",
    "\n",
    "\n",
    "\n",
    "font = {'family' : 'Tahoma',\n",
    "        'size'   : 12}\n",
    "mpl.rc('font', **font) \n",
    "mpl.rcParams['lines.linewidth'] = 1\n",
    "mpl.rcParams['lines.linestyle'] = '-'\n",
    "mpl.rcParams['axes.prop_cycle'] = cycler(color=['black', 'r', 'g', 'y'])\n",
    "\n",
    "mpl.rc('xtick', labelsize=10) \n",
    "mpl.rc('ytick', labelsize=10)\n",
    "\n"
   ]
  },
  {
   "cell_type": "code",
   "execution_count": 1,
   "metadata": {},
   "outputs": [],
   "source": [
    "#traint he same model for a week forecasting\n",
    "#plot one example\n",
    "#plot error vs time in the future "
   ]
  },
  {
   "cell_type": "markdown",
   "metadata": {},
   "source": [
    "## Temperature Forecasting for Hamburg\n",
    "\n",
    "We will create a model with the purpose of predicting the temperature in Hamburg, based on the temperatures of the previous days. First, we read in the data, of a weather data set which we found on Kaggle. It provides for lots of cities time series measurements on weather data. "
   ]
  },
  {
   "cell_type": "code",
   "execution_count": 3,
   "metadata": {},
   "outputs": [
    {
     "data": {
      "text/html": [
       "<div>\n",
       "<style scoped>\n",
       "    .dataframe tbody tr th:only-of-type {\n",
       "        vertical-align: middle;\n",
       "    }\n",
       "\n",
       "    .dataframe tbody tr th {\n",
       "        vertical-align: top;\n",
       "    }\n",
       "\n",
       "    .dataframe thead th {\n",
       "        text-align: right;\n",
       "    }\n",
       "</style>\n",
       "<table border=\"1\" class=\"dataframe\">\n",
       "  <thead>\n",
       "    <tr style=\"text-align: right;\">\n",
       "      <th></th>\n",
       "      <th>station_id</th>\n",
       "      <th>city_name</th>\n",
       "      <th>date</th>\n",
       "      <th>season</th>\n",
       "      <th>avg_temp_c</th>\n",
       "      <th>min_temp_c</th>\n",
       "      <th>max_temp_c</th>\n",
       "      <th>precipitation_mm</th>\n",
       "      <th>snow_depth_mm</th>\n",
       "      <th>avg_wind_dir_deg</th>\n",
       "      <th>avg_wind_speed_kmh</th>\n",
       "      <th>peak_wind_gust_kmh</th>\n",
       "      <th>avg_sea_level_pres_hpa</th>\n",
       "      <th>sunshine_total_min</th>\n",
       "    </tr>\n",
       "  </thead>\n",
       "  <tbody>\n",
       "    <tr>\n",
       "      <th>0</th>\n",
       "      <td>41515</td>\n",
       "      <td>Asadabad</td>\n",
       "      <td>1957-07-01</td>\n",
       "      <td>Summer</td>\n",
       "      <td>27.0</td>\n",
       "      <td>21.1</td>\n",
       "      <td>35.6</td>\n",
       "      <td>0.0</td>\n",
       "      <td>NaN</td>\n",
       "      <td>NaN</td>\n",
       "      <td>NaN</td>\n",
       "      <td>NaN</td>\n",
       "      <td>NaN</td>\n",
       "      <td>NaN</td>\n",
       "    </tr>\n",
       "    <tr>\n",
       "      <th>1</th>\n",
       "      <td>41515</td>\n",
       "      <td>Asadabad</td>\n",
       "      <td>1957-07-02</td>\n",
       "      <td>Summer</td>\n",
       "      <td>22.8</td>\n",
       "      <td>18.9</td>\n",
       "      <td>32.2</td>\n",
       "      <td>0.0</td>\n",
       "      <td>NaN</td>\n",
       "      <td>NaN</td>\n",
       "      <td>NaN</td>\n",
       "      <td>NaN</td>\n",
       "      <td>NaN</td>\n",
       "      <td>NaN</td>\n",
       "    </tr>\n",
       "    <tr>\n",
       "      <th>2</th>\n",
       "      <td>41515</td>\n",
       "      <td>Asadabad</td>\n",
       "      <td>1957-07-03</td>\n",
       "      <td>Summer</td>\n",
       "      <td>24.3</td>\n",
       "      <td>16.7</td>\n",
       "      <td>35.6</td>\n",
       "      <td>1.0</td>\n",
       "      <td>NaN</td>\n",
       "      <td>NaN</td>\n",
       "      <td>NaN</td>\n",
       "      <td>NaN</td>\n",
       "      <td>NaN</td>\n",
       "      <td>NaN</td>\n",
       "    </tr>\n",
       "    <tr>\n",
       "      <th>3</th>\n",
       "      <td>41515</td>\n",
       "      <td>Asadabad</td>\n",
       "      <td>1957-07-04</td>\n",
       "      <td>Summer</td>\n",
       "      <td>26.6</td>\n",
       "      <td>16.1</td>\n",
       "      <td>37.8</td>\n",
       "      <td>4.1</td>\n",
       "      <td>NaN</td>\n",
       "      <td>NaN</td>\n",
       "      <td>NaN</td>\n",
       "      <td>NaN</td>\n",
       "      <td>NaN</td>\n",
       "      <td>NaN</td>\n",
       "    </tr>\n",
       "    <tr>\n",
       "      <th>4</th>\n",
       "      <td>41515</td>\n",
       "      <td>Asadabad</td>\n",
       "      <td>1957-07-05</td>\n",
       "      <td>Summer</td>\n",
       "      <td>30.8</td>\n",
       "      <td>20.0</td>\n",
       "      <td>41.7</td>\n",
       "      <td>0.0</td>\n",
       "      <td>NaN</td>\n",
       "      <td>NaN</td>\n",
       "      <td>NaN</td>\n",
       "      <td>NaN</td>\n",
       "      <td>NaN</td>\n",
       "      <td>NaN</td>\n",
       "    </tr>\n",
       "  </tbody>\n",
       "</table>\n",
       "</div>"
      ],
      "text/plain": [
       "  station_id city_name       date  season  avg_temp_c  min_temp_c  max_temp_c  \\\n",
       "0      41515  Asadabad 1957-07-01  Summer        27.0        21.1        35.6   \n",
       "1      41515  Asadabad 1957-07-02  Summer        22.8        18.9        32.2   \n",
       "2      41515  Asadabad 1957-07-03  Summer        24.3        16.7        35.6   \n",
       "3      41515  Asadabad 1957-07-04  Summer        26.6        16.1        37.8   \n",
       "4      41515  Asadabad 1957-07-05  Summer        30.8        20.0        41.7   \n",
       "\n",
       "   precipitation_mm  snow_depth_mm  avg_wind_dir_deg  avg_wind_speed_kmh  \\\n",
       "0               0.0            NaN               NaN                 NaN   \n",
       "1               0.0            NaN               NaN                 NaN   \n",
       "2               1.0            NaN               NaN                 NaN   \n",
       "3               4.1            NaN               NaN                 NaN   \n",
       "4               0.0            NaN               NaN                 NaN   \n",
       "\n",
       "   peak_wind_gust_kmh  avg_sea_level_pres_hpa  sunshine_total_min  \n",
       "0                 NaN                     NaN                 NaN  \n",
       "1                 NaN                     NaN                 NaN  \n",
       "2                 NaN                     NaN                 NaN  \n",
       "3                 NaN                     NaN                 NaN  \n",
       "4                 NaN                     NaN                 NaN  "
      ]
     },
     "execution_count": 3,
     "metadata": {},
     "output_type": "execute_result"
    }
   ],
   "source": [
    "data_path = 'global-daily-climate-data/'\n",
    "\n",
    "cities_path = data_path + 'cities.csv'\n",
    "countries_path = data_path + 'countries.csv'\n",
    "weather_data_path = data_path + 'daily_weather.parquet'\n",
    "\n",
    "weather_data = pd.read_parquet(weather_data_path)\n",
    "\n",
    "weather_data.head()\n",
    "\n"
   ]
  },
  {
   "cell_type": "markdown",
   "metadata": {},
   "source": [
    "As you seen in the head of the data set above, not for all cities is data available for all parameters. For Asadabad for example, we only have the temperatures and the precipitation available. We will choose to make a weather prediction model for a city which has all data for all different parameters. The more data, the easier our life. \n",
    "\n",
    "Therefore, we will remove all rows which have a parameter for which there is no data available. \n",
    "Then, we will check the number of time serie data points available for each city. \n"
   ]
  },
  {
   "cell_type": "code",
   "execution_count": 4,
   "metadata": {},
   "outputs": [
    {
     "data": {
      "text/plain": [
       "city_name\n",
       "Hamburg       20629\n",
       "Potsdam       19067\n",
       "Bremen        19038\n",
       "Hanover       18172\n",
       "Magdeburg     17889\n",
       "Erfurt        17358\n",
       "Schwerin      17329\n",
       "Düsseldorf    16962\n",
       "Frauenfeld    16849\n",
       "Malmö         14664\n",
       "Name: count, dtype: int64"
      ]
     },
     "execution_count": 4,
     "metadata": {},
     "output_type": "execute_result"
    }
   ],
   "source": [
    "weather_data.dropna(inplace = True)\n",
    "weather_data['city_name'].value_counts().head(10)\n"
   ]
  },
  {
   "cell_type": "markdown",
   "metadata": {},
   "source": [
    "Hamburg as more than 20000 data points! That means 20000 days of temperature measurements, 200000 days of rain fall measurements etcetera! Thanks to modern weather measureming systems, these are a lot of measurements! Let's see if it will be enough to make a model to predict the temperature of Hamburg. \n",
    "\n",
    "We select the data of Hamburg and perform some modifications to the data. First, we convert the column with the data to a pandas datatime format. This will be usefull for plotting etc. Then, we add a column to the data that will indicate the month that we are dealing with. (why month, and not year/ day?). We will also remove the columns that we don't need; the city name and the station id. "
   ]
  },
  {
   "cell_type": "code",
   "execution_count": 5,
   "metadata": {},
   "outputs": [
    {
     "data": {
      "text/html": [
       "<div>\n",
       "<style scoped>\n",
       "    .dataframe tbody tr th:only-of-type {\n",
       "        vertical-align: middle;\n",
       "    }\n",
       "\n",
       "    .dataframe tbody tr th {\n",
       "        vertical-align: top;\n",
       "    }\n",
       "\n",
       "    .dataframe thead th {\n",
       "        text-align: right;\n",
       "    }\n",
       "</style>\n",
       "<table border=\"1\" class=\"dataframe\">\n",
       "  <thead>\n",
       "    <tr style=\"text-align: right;\">\n",
       "      <th></th>\n",
       "      <th>station_id</th>\n",
       "      <th>city_name</th>\n",
       "      <th>date</th>\n",
       "      <th>season</th>\n",
       "      <th>avg_temp_c</th>\n",
       "      <th>min_temp_c</th>\n",
       "      <th>max_temp_c</th>\n",
       "      <th>precipitation_mm</th>\n",
       "      <th>snow_depth_mm</th>\n",
       "      <th>avg_wind_dir_deg</th>\n",
       "      <th>avg_wind_speed_kmh</th>\n",
       "      <th>peak_wind_gust_kmh</th>\n",
       "      <th>avg_sea_level_pres_hpa</th>\n",
       "      <th>sunshine_total_min</th>\n",
       "    </tr>\n",
       "  </thead>\n",
       "  <tbody>\n",
       "    <tr>\n",
       "      <th>21914</th>\n",
       "      <td>10147</td>\n",
       "      <td>Hamburg</td>\n",
       "      <td>1951-01-01</td>\n",
       "      <td>Winter</td>\n",
       "      <td>-2.0</td>\n",
       "      <td>-10.6</td>\n",
       "      <td>1.0</td>\n",
       "      <td>1.6</td>\n",
       "      <td>20.0</td>\n",
       "      <td>149.0</td>\n",
       "      <td>17.6</td>\n",
       "      <td>44.6</td>\n",
       "      <td>995.5</td>\n",
       "      <td>0.0</td>\n",
       "    </tr>\n",
       "    <tr>\n",
       "      <th>21915</th>\n",
       "      <td>10147</td>\n",
       "      <td>Hamburg</td>\n",
       "      <td>1951-01-02</td>\n",
       "      <td>Winter</td>\n",
       "      <td>-0.5</td>\n",
       "      <td>-2.9</td>\n",
       "      <td>0.6</td>\n",
       "      <td>3.8</td>\n",
       "      <td>50.0</td>\n",
       "      <td>137.0</td>\n",
       "      <td>19.4</td>\n",
       "      <td>44.3</td>\n",
       "      <td>993.4</td>\n",
       "      <td>0.0</td>\n",
       "    </tr>\n",
       "    <tr>\n",
       "      <th>21916</th>\n",
       "      <td>10147</td>\n",
       "      <td>Hamburg</td>\n",
       "      <td>1951-01-03</td>\n",
       "      <td>Winter</td>\n",
       "      <td>-0.1</td>\n",
       "      <td>-1.6</td>\n",
       "      <td>1.1</td>\n",
       "      <td>0.0</td>\n",
       "      <td>100.0</td>\n",
       "      <td>174.0</td>\n",
       "      <td>8.6</td>\n",
       "      <td>34.9</td>\n",
       "      <td>1002.6</td>\n",
       "      <td>0.0</td>\n",
       "    </tr>\n",
       "    <tr>\n",
       "      <th>21917</th>\n",
       "      <td>10147</td>\n",
       "      <td>Hamburg</td>\n",
       "      <td>1951-01-04</td>\n",
       "      <td>Winter</td>\n",
       "      <td>1.3</td>\n",
       "      <td>-0.5</td>\n",
       "      <td>2.5</td>\n",
       "      <td>1.5</td>\n",
       "      <td>80.0</td>\n",
       "      <td>208.0</td>\n",
       "      <td>22.7</td>\n",
       "      <td>50.0</td>\n",
       "      <td>1012.2</td>\n",
       "      <td>72.0</td>\n",
       "    </tr>\n",
       "    <tr>\n",
       "      <th>21918</th>\n",
       "      <td>10147</td>\n",
       "      <td>Hamburg</td>\n",
       "      <td>1951-01-05</td>\n",
       "      <td>Winter</td>\n",
       "      <td>4.3</td>\n",
       "      <td>0.9</td>\n",
       "      <td>6.0</td>\n",
       "      <td>6.1</td>\n",
       "      <td>20.0</td>\n",
       "      <td>210.0</td>\n",
       "      <td>25.2</td>\n",
       "      <td>56.5</td>\n",
       "      <td>1006.7</td>\n",
       "      <td>0.0</td>\n",
       "    </tr>\n",
       "  </tbody>\n",
       "</table>\n",
       "</div>"
      ],
      "text/plain": [
       "      station_id city_name       date  season  avg_temp_c  min_temp_c  \\\n",
       "21914      10147   Hamburg 1951-01-01  Winter        -2.0       -10.6   \n",
       "21915      10147   Hamburg 1951-01-02  Winter        -0.5        -2.9   \n",
       "21916      10147   Hamburg 1951-01-03  Winter        -0.1        -1.6   \n",
       "21917      10147   Hamburg 1951-01-04  Winter         1.3        -0.5   \n",
       "21918      10147   Hamburg 1951-01-05  Winter         4.3         0.9   \n",
       "\n",
       "       max_temp_c  precipitation_mm  snow_depth_mm  avg_wind_dir_deg  \\\n",
       "21914         1.0               1.6           20.0             149.0   \n",
       "21915         0.6               3.8           50.0             137.0   \n",
       "21916         1.1               0.0          100.0             174.0   \n",
       "21917         2.5               1.5           80.0             208.0   \n",
       "21918         6.0               6.1           20.0             210.0   \n",
       "\n",
       "       avg_wind_speed_kmh  peak_wind_gust_kmh  avg_sea_level_pres_hpa  \\\n",
       "21914                17.6                44.6                   995.5   \n",
       "21915                19.4                44.3                   993.4   \n",
       "21916                 8.6                34.9                  1002.6   \n",
       "21917                22.7                50.0                  1012.2   \n",
       "21918                25.2                56.5                  1006.7   \n",
       "\n",
       "       sunshine_total_min  \n",
       "21914                 0.0  \n",
       "21915                 0.0  \n",
       "21916                 0.0  \n",
       "21917                72.0  \n",
       "21918                 0.0  "
      ]
     },
     "execution_count": 5,
     "metadata": {},
     "output_type": "execute_result"
    }
   ],
   "source": [
    "hamburg_data = weather_data.loc[weather_data['city_name'] == 'Hamburg']\n",
    "hamburg_data.head()"
   ]
  },
  {
   "cell_type": "code",
   "execution_count": 6,
   "metadata": {},
   "outputs": [
    {
     "name": "stderr",
     "output_type": "stream",
     "text": [
      "/var/folders/zf/6v5q3x1x6rxd5grqb2fp2h3h0000gn/T/ipykernel_7253/1064623564.py:6: SettingWithCopyWarning: \n",
      "A value is trying to be set on a copy of a slice from a DataFrame.\n",
      "Try using .loc[row_indexer,col_indexer] = value instead\n",
      "\n",
      "See the caveats in the documentation: https://pandas.pydata.org/pandas-docs/stable/user_guide/indexing.html#returning-a-view-versus-a-copy\n",
      "  hamburg_data.loc[:, 'month'] = hamburg_data['date'].dt.month\n",
      "/var/folders/zf/6v5q3x1x6rxd5grqb2fp2h3h0000gn/T/ipykernel_7253/1064623564.py:7: SettingWithCopyWarning: \n",
      "A value is trying to be set on a copy of a slice from a DataFrame.\n",
      "Try using .loc[row_indexer,col_indexer] = value instead\n",
      "\n",
      "See the caveats in the documentation: https://pandas.pydata.org/pandas-docs/stable/user_guide/indexing.html#returning-a-view-versus-a-copy\n",
      "  hamburg_data.loc[:, 'day'] = hamburg_data['date'].dt.day\n"
     ]
    }
   ],
   "source": [
    "#we set the data as the index \n",
    "hamburg_data.loc[:, 'date'] = pd.to_datetime(hamburg_data['date'])\n",
    "hamburg_data.set_index('date')\n",
    "\n",
    "#we make a seperate column with month. this will be used as an input for the network\n",
    "hamburg_data.loc[:, 'month'] = hamburg_data['date'].dt.month\n",
    "hamburg_data.loc[:, 'day'] = hamburg_data['date'].dt.day\n",
    "\n",
    "\n",
    "#remove the city column. \n",
    "hamburg_data = hamburg_data.drop(columns = ['city_name'])\n",
    "hamburg_data = hamburg_data.drop(columns = ['station_id'])"
   ]
  },
  {
   "cell_type": "markdown",
   "metadata": {},
   "source": [
    "If we plot the data of the last 10 years, we see a nice seasonal variance of the temperature. So far so good! "
   ]
  },
  {
   "cell_type": "code",
   "execution_count": 7,
   "metadata": {},
   "outputs": [
    {
     "data": {
      "text/plain": [
       "Text(0, 0.5, 'avg T')"
      ]
     },
     "execution_count": 7,
     "metadata": {},
     "output_type": "execute_result"
    },
    {
     "data": {
      "image/png": "[encoded data removed]",
      "text/plain": [
       "<Figure size 640x480 with 1 Axes>"
      ]
     },
     "metadata": {},
     "output_type": "display_data"
    }
   ],
   "source": [
    "mask = (hamburg_data['date']) >= '2014-01-01'\n",
    "plt.plot(hamburg_data['date'].loc[mask], hamburg_data['avg_temp_c'].loc[mask])\n",
    "plt.title(\"temperature in Hamburg of the last 10 years\")\n",
    "plt.ylabel(\"avg T\")"
   ]
  },
  {
   "cell_type": "markdown",
   "metadata": {},
   "source": [
    "We do the final preparations before we can feed our data to the model. We remove the date from the data set. We added the month to the data set to indicate the timing. We don't need the date anymore. \n",
    "Then, we one-hot-encode the season. Now it is indicated as a string, which will not be approved by our model. Therefore, we add four columns, for each season one to indicate the season of the specific data point. "
   ]
  },
  {
   "cell_type": "code",
   "execution_count": 8,
   "metadata": {},
   "outputs": [
    {
     "data": {
      "text/html": [
       "<div>\n",
       "<style scoped>\n",
       "    .dataframe tbody tr th:only-of-type {\n",
       "        vertical-align: middle;\n",
       "    }\n",
       "\n",
       "    .dataframe tbody tr th {\n",
       "        vertical-align: top;\n",
       "    }\n",
       "\n",
       "    .dataframe thead th {\n",
       "        text-align: right;\n",
       "    }\n",
       "</style>\n",
       "<table border=\"1\" class=\"dataframe\">\n",
       "  <thead>\n",
       "    <tr style=\"text-align: right;\">\n",
       "      <th></th>\n",
       "      <th>avg_temp_c</th>\n",
       "      <th>min_temp_c</th>\n",
       "      <th>max_temp_c</th>\n",
       "      <th>precipitation_mm</th>\n",
       "      <th>snow_depth_mm</th>\n",
       "      <th>avg_wind_dir_deg</th>\n",
       "      <th>avg_wind_speed_kmh</th>\n",
       "      <th>peak_wind_gust_kmh</th>\n",
       "      <th>avg_sea_level_pres_hpa</th>\n",
       "      <th>sunshine_total_min</th>\n",
       "      <th>month</th>\n",
       "      <th>day</th>\n",
       "      <th>season_Autumn</th>\n",
       "      <th>season_Spring</th>\n",
       "      <th>season_Summer</th>\n",
       "      <th>season_Winter</th>\n",
       "    </tr>\n",
       "  </thead>\n",
       "  <tbody>\n",
       "    <tr>\n",
       "      <th>21914</th>\n",
       "      <td>-2.0</td>\n",
       "      <td>-10.6</td>\n",
       "      <td>1.0</td>\n",
       "      <td>1.6</td>\n",
       "      <td>20.0</td>\n",
       "      <td>149.0</td>\n",
       "      <td>17.6</td>\n",
       "      <td>44.6</td>\n",
       "      <td>995.5</td>\n",
       "      <td>0.0</td>\n",
       "      <td>1</td>\n",
       "      <td>1</td>\n",
       "      <td>False</td>\n",
       "      <td>False</td>\n",
       "      <td>False</td>\n",
       "      <td>True</td>\n",
       "    </tr>\n",
       "    <tr>\n",
       "      <th>21915</th>\n",
       "      <td>-0.5</td>\n",
       "      <td>-2.9</td>\n",
       "      <td>0.6</td>\n",
       "      <td>3.8</td>\n",
       "      <td>50.0</td>\n",
       "      <td>137.0</td>\n",
       "      <td>19.4</td>\n",
       "      <td>44.3</td>\n",
       "      <td>993.4</td>\n",
       "      <td>0.0</td>\n",
       "      <td>1</td>\n",
       "      <td>2</td>\n",
       "      <td>False</td>\n",
       "      <td>False</td>\n",
       "      <td>False</td>\n",
       "      <td>True</td>\n",
       "    </tr>\n",
       "    <tr>\n",
       "      <th>21916</th>\n",
       "      <td>-0.1</td>\n",
       "      <td>-1.6</td>\n",
       "      <td>1.1</td>\n",
       "      <td>0.0</td>\n",
       "      <td>100.0</td>\n",
       "      <td>174.0</td>\n",
       "      <td>8.6</td>\n",
       "      <td>34.9</td>\n",
       "      <td>1002.6</td>\n",
       "      <td>0.0</td>\n",
       "      <td>1</td>\n",
       "      <td>3</td>\n",
       "      <td>False</td>\n",
       "      <td>False</td>\n",
       "      <td>False</td>\n",
       "      <td>True</td>\n",
       "    </tr>\n",
       "    <tr>\n",
       "      <th>21917</th>\n",
       "      <td>1.3</td>\n",
       "      <td>-0.5</td>\n",
       "      <td>2.5</td>\n",
       "      <td>1.5</td>\n",
       "      <td>80.0</td>\n",
       "      <td>208.0</td>\n",
       "      <td>22.7</td>\n",
       "      <td>50.0</td>\n",
       "      <td>1012.2</td>\n",
       "      <td>72.0</td>\n",
       "      <td>1</td>\n",
       "      <td>4</td>\n",
       "      <td>False</td>\n",
       "      <td>False</td>\n",
       "      <td>False</td>\n",
       "      <td>True</td>\n",
       "    </tr>\n",
       "    <tr>\n",
       "      <th>21918</th>\n",
       "      <td>4.3</td>\n",
       "      <td>0.9</td>\n",
       "      <td>6.0</td>\n",
       "      <td>6.1</td>\n",
       "      <td>20.0</td>\n",
       "      <td>210.0</td>\n",
       "      <td>25.2</td>\n",
       "      <td>56.5</td>\n",
       "      <td>1006.7</td>\n",
       "      <td>0.0</td>\n",
       "      <td>1</td>\n",
       "      <td>5</td>\n",
       "      <td>False</td>\n",
       "      <td>False</td>\n",
       "      <td>False</td>\n",
       "      <td>True</td>\n",
       "    </tr>\n",
       "  </tbody>\n",
       "</table>\n",
       "</div>"
      ],
      "text/plain": [
       "       avg_temp_c  min_temp_c  max_temp_c  precipitation_mm  snow_depth_mm  \\\n",
       "21914        -2.0       -10.6         1.0               1.6           20.0   \n",
       "21915        -0.5        -2.9         0.6               3.8           50.0   \n",
       "21916        -0.1        -1.6         1.1               0.0          100.0   \n",
       "21917         1.3        -0.5         2.5               1.5           80.0   \n",
       "21918         4.3         0.9         6.0               6.1           20.0   \n",
       "\n",
       "       avg_wind_dir_deg  avg_wind_speed_kmh  peak_wind_gust_kmh  \\\n",
       "21914             149.0                17.6                44.6   \n",
       "21915             137.0                19.4                44.3   \n",
       "21916             174.0                 8.6                34.9   \n",
       "21917             208.0                22.7                50.0   \n",
       "21918             210.0                25.2                56.5   \n",
       "\n",
       "       avg_sea_level_pres_hpa  sunshine_total_min  month  day  season_Autumn  \\\n",
       "21914                   995.5                 0.0      1    1          False   \n",
       "21915                   993.4                 0.0      1    2          False   \n",
       "21916                  1002.6                 0.0      1    3          False   \n",
       "21917                  1012.2                72.0      1    4          False   \n",
       "21918                  1006.7                 0.0      1    5          False   \n",
       "\n",
       "       season_Spring  season_Summer  season_Winter  \n",
       "21914          False          False           True  \n",
       "21915          False          False           True  \n",
       "21916          False          False           True  \n",
       "21917          False          False           True  \n",
       "21918          False          False           True  "
      ]
     },
     "execution_count": 8,
     "metadata": {},
     "output_type": "execute_result"
    }
   ],
   "source": [
    "# extract date column for later plotting use \n",
    "hamburg_dates = hamburg_data['date']\n",
    "# remove date column from input data \n",
    "hamburg_data = hamburg_data.drop(columns = ['date'])\n",
    "\n",
    "# we need to one-hot-encode the season column \n",
    "hamburg_LSTM = hamburg_data.copy(deep=True)\n",
    "hamburg_LSTM = pd.get_dummies(hamburg_data, columns = ['season'])\n",
    "\n",
    "hamburg_LSTM.head(5)"
   ]
  },
  {
   "cell_type": "markdown",
   "metadata": {},
   "source": [
    "We cleaned up our data. Now it is time to reshape the data in the way our model likes. \n",
    "The goal of the model needs to be to predict the temperature at time $t$, knowing the data at the days before. We call the number of days that the data is known $T$. So; knowing the data of the last $T$ days, what is the weather at day $t$? \n",
    "\n",
    "Therefore, we feed the data of all parameters of $T$ days before day $t$, and label it with the temperature at day $t$. \n",
    "The input of our LSTM model needs to be of the shape\\ $N$ by $T$ by $D$ where\n",
    "\n",
    "$N$: the batch size \\\n",
    "$L$: the number of days before $t$ we know the data from\\\n",
    "$D$: the number of weather parameters\\\n",
    "\n",
    "Since we want to make a model to predict the average temparature, we feed the average temperature at time $t$ as a label to the model for the data of $t- T -1$ to $t - 1$\n",
    "\n"
   ]
  },
  {
   "cell_type": "code",
   "execution_count": 35,
   "metadata": {},
   "outputs": [],
   "source": [
    "#shaping training and testing data set in desired shapes \n",
    "targets = hamburg_LSTM['avg_temp_c'].values\n",
    "D = hamburg_LSTM.shape[1] #number of columns \n",
    "T = 28 #number of time steps  \n",
    "pred_days = 7\n",
    "\n",
    "#We take 80% of the data for the training set \n",
    "train_size = int(len(hamburg_LSTM) * 0.80)\n",
    "X_train = np.zeros((train_size, T, D))\n",
    "y_train = np.zeros((train_size, pred_days))\n",
    "\n",
    "# Normalizing the data \n",
    "scaler = StandardScaler()\n",
    "scaler.fit(hamburg_LSTM[:train_size + T - 1])\n",
    "hamburg_LSTM_norm = scaler.transform(hamburg_LSTM)\n",
    "\n",
    "# Setting up matrices for x_train and y_train\n",
    "for t in range(train_size):\n",
    "  X_train[t, :, :] = hamburg_LSTM_norm[t:t+T]\n",
    "  y_train[t] = (targets[(t+T):(t+T+pred_days)]) \n",
    "\n",
    "# Setting up matrices for X_test and y_test \n",
    "test_size =  len(targets) - T - train_size - pred_days\n",
    "X_test = np.zeros((test_size, T, D))\n",
    "y_test = np.zeros((test_size, pred_days))\n",
    "\n",
    "for i in range(test_size):\n",
    "  t = i + train_size\n",
    "  X_test[i, :, :] = hamburg_LSTM_norm[t:t+T]\n",
    "  y_test[i] = (targets[(t+T):(t+T+pred_days)]) \n"
   ]
  },
  {
   "cell_type": "code",
   "execution_count": 41,
   "metadata": {},
   "outputs": [
    {
     "data": {
      "text/plain": [
       "(16503, 7)"
      ]
     },
     "execution_count": 41,
     "metadata": {},
     "output_type": "execute_result"
    }
   ],
   "source": []
  },
  {
   "cell_type": "markdown",
   "metadata": {},
   "source": [
    "We prepared our data! Now we can create a dataset and a dataloader and train our LSTM model. "
   ]
  },
  {
   "cell_type": "code",
   "execution_count": 42,
   "metadata": {},
   "outputs": [],
   "source": [
    "\n",
    "class MyDataset(torch.utils.data.Dataset):\n",
    "\n",
    "    def __init__(self, data, labels):\n",
    "\n",
    "        self.data = torch.from_numpy(data).type(torch.float32)\n",
    "        self.labels = torch.from_numpy(labels).type(torch.float32)\n",
    "\n",
    "    def __getitem__(self, i):\n",
    "        data = self.data[i]\n",
    "        label = self.labels[i]\n",
    "        return data, label\n",
    "\n",
    "    def __len__(self):\n",
    "        return len(self.labels)\n",
    "    \n",
    "\n",
    "batch_size = 100\n",
    "data_train = MyDataset(X_train, y_train )\n",
    "train_dataloader = torch.utils.data.DataLoader(data_train, batch_size = batch_size, shuffle = True)\n",
    "\n",
    "data_test = MyDataset(X_test, y_test)\n",
    "test_dataloader = torch.utils.data.DataLoader(data_test, batch_size = batch_size, shuffle = False)\n",
    "\n"
   ]
  },
  {
   "cell_type": "code",
   "execution_count": 43,
   "metadata": {},
   "outputs": [],
   "source": [
    "class LSTM(nn.Module):\n",
    "  def __init__(self, input_dim, hidden_dim, layer_dim, output_dim):\n",
    "    super(LSTM, self).__init__()\n",
    "    self.M = hidden_dim\n",
    "    self.L = layer_dim\n",
    "\n",
    "    self.lstm = nn.LSTM(\n",
    "        input_size=input_dim,\n",
    "        hidden_size=hidden_dim,\n",
    "        num_layers=layer_dim,\n",
    "        batch_first=True)\n",
    "\n",
    "    self.fc = nn.Linear(hidden_dim, output_dim)\n",
    "\n",
    "  def forward(self, X):\n",
    "    # initial hidden state and cell state\n",
    "    h0 = torch.zeros(self.L, X.size(0), self.M)\n",
    "    c0 = torch.zeros(self.L, X.size(0), self.M)\n",
    "\n",
    "    out, (hn, cn) = self.lstm(X, (h0.detach(), c0.detach()))\n",
    "\n",
    "    # read out the final step \n",
    "    out = self.fc(out[:, -1, :])\n",
    "    return out"
   ]
  },
  {
   "cell_type": "code",
   "execution_count": 105,
   "metadata": {},
   "outputs": [
    {
     "name": "stdout",
     "output_type": "stream",
     "text": [
      "progress of 33.0% for epoch 1/10\n",
      "progress of 66.0% for epoch 1/10\n",
      "progress of 99.0% for epoch 1/10\n",
      "Epoch 1, Training Loss: 33.5802, Validation Loss: 12.5037\n",
      "progress of 33.0% for epoch 2/10\n",
      "progress of 66.0% for epoch 2/10\n",
      "progress of 99.0% for epoch 2/10\n",
      "Epoch 2, Training Loss: 11.8225, Validation Loss: 10.2284\n",
      "progress of 33.0% for epoch 3/10\n",
      "progress of 66.0% for epoch 3/10\n",
      "progress of 99.0% for epoch 3/10\n",
      "Epoch 3, Training Loss: 10.7862, Validation Loss: 9.8459\n",
      "progress of 33.0% for epoch 4/10\n",
      "progress of 66.0% for epoch 4/10\n",
      "progress of 99.0% for epoch 4/10\n",
      "Epoch 4, Training Loss: 10.2335, Validation Loss: 10.0657\n",
      "progress of 33.0% for epoch 5/10\n",
      "progress of 66.0% for epoch 5/10\n",
      "progress of 99.0% for epoch 5/10\n",
      "Epoch 5, Training Loss: 9.9539, Validation Loss: 9.7519\n",
      "progress of 33.0% for epoch 6/10\n",
      "progress of 66.0% for epoch 6/10\n",
      "progress of 99.0% for epoch 6/10\n",
      "Epoch 6, Training Loss: 9.6350, Validation Loss: 9.8097\n",
      "progress of 33.0% for epoch 7/10\n",
      "progress of 66.0% for epoch 7/10\n",
      "progress of 99.0% for epoch 7/10\n",
      "Epoch 7, Training Loss: 9.5083, Validation Loss: 9.9638\n",
      "progress of 33.0% for epoch 8/10\n",
      "progress of 66.0% for epoch 8/10\n",
      "progress of 99.0% for epoch 8/10\n",
      "Epoch 8, Training Loss: 8.9274, Validation Loss: 9.9072\n",
      "progress of 33.0% for epoch 9/10\n",
      "progress of 66.0% for epoch 9/10\n",
      "progress of 99.0% for epoch 9/10\n",
      "Epoch 9, Training Loss: 8.5283, Validation Loss: 10.0453\n",
      "progress of 33.0% for epoch 10/10\n",
      "progress of 66.0% for epoch 10/10\n",
      "progress of 99.0% for epoch 10/10\n",
      "Epoch 10, Training Loss: 7.7622, Validation Loss: 10.5649\n",
      "The training of the model is stopped after 10 epochs, to prevent overfitting...\n"
     ]
    }
   ],
   "source": [
    "\n",
    "\n",
    "model = LSTM(\n",
    "     input_dim = D,#number of columns\n",
    "     hidden_dim = 256, \n",
    "     layer_dim = 2, \n",
    "     output_dim = pred_days,\n",
    " )\n",
    "\n",
    "#model.load_state_dict(torch.load('hamburg_lstm.pth'))\n",
    "\n",
    "criterion = nn.MSELoss()\n",
    "\n",
    "optimizer = torch.optim.Adam(model.parameters(), lr=0.001)\n",
    "\n",
    "num_epochs = 10\n",
    "\n",
    "early_stopping = analysis_tools.EarlyStopping(patience=5, delta=0.01)\n",
    "\n",
    "test_loss = []\n",
    "train_loss = []\n",
    "\n",
    "# Training \n",
    "for epoch in range(num_epochs):  \n",
    "    \n",
    "    train_accuracy = 0 \n",
    "    model.train()\n",
    "    train_loss_tmp = 0 \n",
    "    total_samples = 0\n",
    "\n",
    "    total = len(train_dataloader)\n",
    "    for i, inputs in enumerate(train_dataloader):\n",
    "        # Set gradients to zero \n",
    "        optimizer.zero_grad()\n",
    "\n",
    "        # Forward pass\n",
    "        x, labels = inputs\n",
    "        y = model(x)\n",
    "        loss = criterion(y, labels) \n",
    "\n",
    "        # Backward pass\n",
    "        loss.backward()\n",
    "        optimizer.step()\n",
    "\n",
    "        # Calculate losses\n",
    "        train_loss_tmp += criterion(y, labels).item() * labels.size(0)\n",
    "        total_samples += labels.size(0)\n",
    "        if (i+1) % int(len(train_dataloader)/3) == 0:\n",
    "         print(f\"progress of {np.round((i+1)/(len(train_dataloader))*100, 0)}% for epoch {epoch+1}/{num_epochs}\")\n",
    "      \n",
    "    train_loss_tmp /= len(train_dataloader.dataset)\n",
    "    train_loss.append(train_loss_tmp)\n",
    "        \n",
    "    # Testing\n",
    "    test_loss_tmp = 0 \n",
    "    total_samples = 0\n",
    "\n",
    "    model.eval() \n",
    "\n",
    "    with torch.no_grad():\n",
    "        for inputs in test_dataloader:\n",
    "            x, labels = inputs\n",
    "            y = model(x)\n",
    "\n",
    "            test_loss_tmp += criterion(y, labels).item() * labels.size(0)\n",
    "            total_samples += labels.size(0)\n",
    "\n",
    "    test_loss_tmp /= total_samples \n",
    "    test_loss.append(test_loss_tmp)\n",
    "    \n",
    "    print(f'Epoch {epoch+1}, Training Loss: {train_loss_tmp:.4f}, Validation Loss: {test_loss_tmp:.4f}')\n",
    "\n",
    "    early_stopping.check(test_loss_tmp, model)#based on the losses \n",
    "    if early_stopping.early_stop:\n",
    "        print(f\"The training of the model is stopped after {epoch+1} epochs, to prevent overfitting...\")\n",
    "        break\n",
    "\n",
    "\n"
   ]
  },
  {
   "cell_type": "code",
   "execution_count": 83,
   "metadata": {},
   "outputs": [],
   "source": [
    "\n",
    "#losses = {'train_loss': train_loss, 'test_loss':test_loss}\n",
    "\n",
    "#with open('losses.pickle', 'wb') as handle:\n",
    "#        pickle.dump(losses, handle, protocol=pickle.HIGHEST_PROTOCOL)\n",
    "\n",
    "#torch.save(model.state_dict(), 'hamburg_lstm.pth') #store new model parameters\n",
    "\n",
    "\n",
    "save = True \n",
    "if save:\n",
    "\n",
    "\n",
    "\n",
    "    torch.save(model.state_dict(), 'hamburg_lstm.pth') #store new model parameters\n",
    "\n",
    "\n",
    "    #store losses \n",
    "    with open('losses.pickle', 'rb') as handle:\n",
    "        losses = pickle.load(handle)\n",
    "    \n",
    "\n",
    "    new_losses = {}\n",
    "    tmp = losses['train_loss']\n",
    "    new_losses['train_loss'] = tmp + train_loss\n",
    "    tmp = losses['test_loss']\n",
    "    new_losses['test_loss'] = tmp + test_loss \n",
    "\n",
    "\n",
    "\n",
    "    with open('losses.pickle', 'wb') as handle:\n",
    "        pickle.dump(new_losses, handle, protocol=pickle.HIGHEST_PROTOCOL)\n",
    "\n",
    "\n"
   ]
  },
  {
   "cell_type": "markdown",
   "metadata": {},
   "source": [
    "I stored the losses in a seperate file, such that we can train our model more and more everytime we run it. When we look at the losses, we can see that the model is nicely describing the training and the validation data set. Or at least, better and better. "
   ]
  },
  {
   "cell_type": "markdown",
   "metadata": {},
   "source": [
    "## Plotting the losses "
   ]
  },
  {
   "cell_type": "code",
   "execution_count": 84,
   "metadata": {},
   "outputs": [
    {
     "data": {
      "image/png": "[encoded data removed]",
      "text/plain": [
       "<Figure size 600x600 with 1 Axes>"
      ]
     },
     "metadata": {},
     "output_type": "display_data"
    }
   ],
   "source": [
    "with open('losses.pickle', 'rb') as handle:\n",
    "        losses = pickle.load(handle)\n",
    "train_losses = losses['train_loss']\n",
    "test_losses = losses['test_loss']\n",
    "\n",
    "epochs = range(len(train_losses))\n",
    "fig, axs = plt.subplots(1,1, figsize =(6,6))\n",
    "axs.plot(epochs,test_losses, label = 'test data' )\n",
    "axs.plot(epochs, train_losses, label = 'train data')\n",
    "#axs.set_ylim(0, max(test_loss))\n",
    "axs.set_ylabel(\"loss\")\n",
    "axs.legend()\n",
    "axs.set_xlabel(\"epochs\")\n",
    "axs.grid()"
   ]
  },
  {
   "cell_type": "markdown",
   "metadata": {},
   "source": [
    "## Plot model performance for 1 day forecasting"
   ]
  },
  {
   "cell_type": "markdown",
   "metadata": {},
   "source": [
    "To know how well our model is working, we can compare the difference between the temperatures that the model predicts, with the actual temperatures. To quantify this, we can calculate the RMS value; the root of the mean of the squared differences. \n",
    "\n",
    "We will compare the results with a more naive model; the temperature at each day is the average of the temperatures on that exact day in the year for our complete data set. If we compare the RMS for this model, we see that our trained model is performing much better! That's great! We did not go thru the hussle of training our LSTM network for nothiing. \n"
   ]
  },
  {
   "cell_type": "code",
   "execution_count": 87,
   "metadata": {},
   "outputs": [
    {
     "name": "stderr",
     "output_type": "stream",
     "text": [
      "/var/folders/zf/6v5q3x1x6rxd5grqb2fp2h3h0000gn/T/ipykernel_1026/505335308.py:8: FutureWarning: You are using `torch.load` with `weights_only=False` (the current default value), which uses the default pickle module implicitly. It is possible to construct malicious pickle data which will execute arbitrary code during unpickling (See https://github.com/pytorch/pytorch/blob/main/SECURITY.md#untrusted-models for more details). In a future release, the default value for `weights_only` will be flipped to `True`. This limits the functions that could be executed during unpickling. Arbitrary objects will no longer be allowed to be loaded via this mode unless they are explicitly allowlisted by the user via `torch.serialization.add_safe_globals`. We recommend you start setting `weights_only=True` for any use case where you don't have full control of the loaded file. Please open an issue on GitHub for any issues related to this experimental feature.\n",
      "  model.load_state_dict(torch.load('hamburg_lstm.pth'))\n"
     ]
    },
    {
     "data": {
      "text/plain": [
       "<All keys matched successfully>"
      ]
     },
     "execution_count": 87,
     "metadata": {},
     "output_type": "execute_result"
    }
   ],
   "source": [
    "\n",
    "model = LSTM(\n",
    "     input_dim = D,\n",
    "     hidden_dim = 256, \n",
    "     layer_dim = 2, \n",
    "     output_dim = pred_days,\n",
    " )\n",
    "\n",
    "model.load_state_dict(torch.load('hamburg_lstm.pth'))\n",
    "\n"
   ]
  },
  {
   "cell_type": "markdown",
   "metadata": {},
   "source": []
  },
  {
   "cell_type": "code",
   "execution_count": 136,
   "metadata": {},
   "outputs": [],
   "source": [
    "# calculate the expected temperature values with our trained model for the test set \n",
    "\n",
    "results = []\n",
    "true_values = []\n",
    "model.eval()\n",
    "\n",
    "for i in range(X_test.shape[0]):\n",
    "    x = torch.from_numpy(X_test[i, :, :].reshape(1, T, D)).type(torch.float32)\n",
    "    y = model(x) \n",
    "    y = y.detach().numpy()[0] #get first value \n",
    "    results.append(y)\n",
    "\n",
    "    true_values.append(hamburg_LSTM['avg_temp_c'][-len(X_test):].values[i:i+pred_days])\n",
    "\n",
    "\n"
   ]
  },
  {
   "cell_type": "code",
   "execution_count": 99,
   "metadata": {},
   "outputs": [],
   "source": [
    "results = np.array(results).reshape(len(results), pred_days)\n",
    "true_values = np.array(true_values).reshape(len(true_values), pred_days)"
   ]
  },
  {
   "cell_type": "code",
   "execution_count": 140,
   "metadata": {},
   "outputs": [],
   "source": []
  },
  {
   "cell_type": "code",
   "execution_count": 145,
   "metadata": {},
   "outputs": [
    {
     "data": {
      "text/plain": [
       "array([16.8, 17.7, 17.6, 17.9, 14.6, 11.7, 12.4])"
      ]
     },
     "execution_count": 145,
     "metadata": {},
     "output_type": "execute_result"
    }
   ],
   "source": [
    "hamburg_LSTM['avg_temp_c'][-len(X_test):].values[0:0+pred_days]"
   ]
  },
  {
   "cell_type": "code",
   "execution_count": 55,
   "metadata": {},
   "outputs": [],
   "source": [
    "\n",
    "#for each date in the test range, compute the average of all the data \n",
    "estimates = []\n",
    "for date in hamburg_dates[-len(X_test):]:\n",
    "    dag = date.day\n",
    "    month = date.month\n",
    "    mask = ((hamburg_LSTM['day'] == dag)&(hamburg_LSTM['month'] == month))\n",
    "    estimate = hamburg_LSTM.loc[mask]['avg_temp_c'].mean()\n",
    "    estimates.append(estimate)"
   ]
  },
  {
   "cell_type": "code",
   "execution_count": 82,
   "metadata": {},
   "outputs": [
    {
     "data": {
      "text/plain": [
       "4091"
      ]
     },
     "execution_count": 82,
     "metadata": {},
     "output_type": "execute_result"
    }
   ],
   "source": [
    "hamburg_dates[-len(X_test):]"
   ]
  },
  {
   "cell_type": "code",
   "execution_count": 107,
   "metadata": {},
   "outputs": [
    {
     "ename": "TypeError",
     "evalue": "list indices must be integers or slices, not tuple",
     "output_type": "error",
     "traceback": [
      "\u001b[0;31m---------------------------------------------------------------------------\u001b[0m",
      "\u001b[0;31mTypeError\u001b[0m                                 Traceback (most recent call last)",
      "Cell \u001b[0;32mIn[107], line 8\u001b[0m\n\u001b[1;32m      4\u001b[0m fig\u001b[38;5;241m.\u001b[39msuptitle(\u001b[38;5;124m\"\u001b[39m\u001b[38;5;124mTemperature predictions for Hamburg\u001b[39m\u001b[38;5;124m\"\u001b[39m)\n\u001b[1;32m      7\u001b[0m axs[\u001b[38;5;241m0\u001b[39m]\u001b[38;5;241m.\u001b[39mplot(hamburg_dates[\u001b[38;5;241m-\u001b[39m\u001b[38;5;28mlen\u001b[39m(X_test):], hamburg_LSTM[\u001b[38;5;124m'\u001b[39m\u001b[38;5;124mavg_temp_c\u001b[39m\u001b[38;5;124m'\u001b[39m][\u001b[38;5;241m-\u001b[39m\u001b[38;5;28mlen\u001b[39m(X_test):], label \u001b[38;5;241m=\u001b[39m \u001b[38;5;124m'\u001b[39m\u001b[38;5;124mtrue values\u001b[39m\u001b[38;5;124m'\u001b[39m)\n\u001b[0;32m----> 8\u001b[0m axs[\u001b[38;5;241m0\u001b[39m]\u001b[38;5;241m.\u001b[39mplot(hamburg_dates[\u001b[38;5;241m-\u001b[39m\u001b[38;5;28mlen\u001b[39m(X_test):], \u001b[43mresults\u001b[49m\u001b[43m[\u001b[49m\u001b[43m:\u001b[49m\u001b[43m,\u001b[49m\u001b[43m \u001b[49m\u001b[38;5;241;43m0\u001b[39;49m\u001b[43m]\u001b[49m, label \u001b[38;5;241m=\u001b[39m \u001b[38;5;124m'\u001b[39m\u001b[38;5;124mLSTM model\u001b[39m\u001b[38;5;124m'\u001b[39m)\n\u001b[1;32m      9\u001b[0m axs[\u001b[38;5;241m0\u001b[39m]\u001b[38;5;241m.\u001b[39mplot(hamburg_dates[\u001b[38;5;241m-\u001b[39m\u001b[38;5;28mlen\u001b[39m(X_test):], estimates, label \u001b[38;5;241m=\u001b[39m \u001b[38;5;124m'\u001b[39m\u001b[38;5;124mnaive model\u001b[39m\u001b[38;5;124m'\u001b[39m)\n\u001b[1;32m     10\u001b[0m axs[\u001b[38;5;241m0\u001b[39m]\u001b[38;5;241m.\u001b[39mset_ylabel(\u001b[38;5;124m\"\u001b[39m\u001b[38;5;124mavg T / day\u001b[39m\u001b[38;5;124m\"\u001b[39m)\n",
      "\u001b[0;31mTypeError\u001b[0m: list indices must be integers or slices, not tuple"
     ]
    },
    {
     "data": {
      "image/png": "[encoded data removed]",
      "text/plain": [
       "<Figure size 1000x400 with 2 Axes>"
      ]
     },
     "metadata": {},
     "output_type": "display_data"
    }
   ],
   "source": [
    "# plot the data and the model predictions \n",
    "\n",
    "fig, axs = plt.subplots(2,1, height_ratios=[3, 1], figsize = (10, 4), sharex=True)\n",
    "fig.suptitle(\"Temperature predictions for Hamburg\")\n",
    "\n",
    "\n",
    "axs[0].plot(hamburg_dates[len(X_train)], hamburg_LSTM['avg_temp_c'][-len(X_test):], label = 'true values')\n",
    "axs[0].plot(hamburg_dates[-len(X_test):], results[:, 0], label = 'LSTM model')\n",
    "axs[0].plot(hamburg_dates[-len(X_test):], estimates, label = 'naive model')\n",
    "axs[0].set_ylabel(\"avg T / day\")\n",
    "axs[0].legend(loc = 1)\n",
    "\n",
    "diff_lstm = hamburg_LSTM['avg_temp_c'][-len(X_test):] - results[:, 0]\n",
    "rms_lstm = np.sqrt(np.mean((diff_lstm)**2))\n",
    "\n",
    "print(f\"The RMS error for the trained model is {rms_lstm:.2f}\")\n",
    "\n",
    "\n",
    "diff_naive = hamburg_LSTM['avg_temp_c'][-len(X_test):] - estimate\n",
    "rms_naive = np.sqrt(np.mean((diff_naive)**2))\n",
    "\n",
    "print(f\"The RMS error for the naive model is {rms_naive:.2f}\")\n",
    "\n",
    "axs[1].plot(hamburg_dates[-len(X_test):], np.zeros(len(hamburg_dates[-len(X_test):])), label = 'true values')\n",
    "axs[1].plot(hamburg_dates[-len(X_test):], abs(diff_lstm), label = 'LSTM model')\n",
    "axs[1].plot(hamburg_dates[-len(X_test):], abs(diff_naive), label = 'naive model')\n",
    "axs[1].set_ylabel(\"|diff|\")\n",
    "axs[1].set_ylim((0, 20))\n",
    "axs[1].set_xlim([datetime.date(2017, 1, 1), datetime.date(2023, 1, 1)])\n",
    "\n",
    "\n",
    "\n",
    "\n",
    "\n"
   ]
  },
  {
   "cell_type": "code",
   "execution_count": null,
   "metadata": {},
   "outputs": [],
   "source": []
  },
  {
   "cell_type": "markdown",
   "metadata": {},
   "source": [
    "## Performance for week prediction "
   ]
  },
  {
   "cell_type": "code",
   "execution_count": null,
   "metadata": {},
   "outputs": [],
   "source": [
    "#plotting example for one week prediction\n",
    "\n",
    "fig = plt.figure()\n",
    "plt.plot(hamburg_dates[-len(X_test):-len(X_test)+pred_days], results[0, :])"
   ]
  },
  {
   "cell_type": "code",
   "execution_count": null,
   "metadata": {},
   "outputs": [],
   "source": []
  }
 ],
 "metadata": {
  "kernelspec": {
   "display_name": "Python 3",
   "language": "python",
   "name": "python3"
  },
  "language_info": {
   "codemirror_mode": {
    "name": "ipython",
    "version": 3
   },
   "file_extension": ".py",
   "mimetype": "text/x-python",
   "name": "python",
   "nbconvert_exporter": "python",
   "pygments_lexer": "ipython3",
   "version": "3.8.20"
  }
 },
 "nbformat": 4,
 "nbformat_minor": 2
}
